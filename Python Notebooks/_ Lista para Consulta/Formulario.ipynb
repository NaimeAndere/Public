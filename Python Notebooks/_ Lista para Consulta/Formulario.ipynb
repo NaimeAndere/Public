{
 "cells": [
  {
   "cell_type": "markdown",
   "metadata": {},
   "source": [
    "- Código para Gerar um formuçário de entrada de informações, onde tem uma caixa de texto e uma caixa de número. Nesse código também é realizado a verificação se o número foi preenchido como número, e verifica se ambas as caixas foram preenchidas "
   ]
  },
  {
   "cell_type": "markdown",
   "metadata": {},
   "source": [
    "Importação da biblioteca tkinter, responsável por criar os formulários"
   ]
  },
  {
   "cell_type": "code",
   "execution_count": 1,
   "metadata": {},
   "outputs": [],
   "source": [
    "import tkinter as tk\n",
    "from tkinter import messagebox"
   ]
  },
  {
   "cell_type": "code",
   "execution_count": 12,
   "metadata": {},
   "outputs": [],
   "source": [
    "def gerar():\n",
    "    texto = entrada_texto.get()\n",
    "    numero1 = entrada_num1.get()\n",
    "    \n",
    "    # Verificação básica se os campos estão preenchidos\n",
    "    if not texto or not numero1:\n",
    "        messagebox.showwarning(\"Erro\", \"Por favor, preencha todos os campos.\")\n",
    "        return\n",
    "    \n",
    "    # Exibe os valores inseridos\n",
    "    mensagem = f\"Texto: {texto}\\nNúmero 1: {numero1}\"\n",
    "    messagebox.showinfo(\"Valores Inseridos\", mensagem)"
   ]
  },
  {
   "cell_type": "code",
   "execution_count": 10,
   "metadata": {},
   "outputs": [],
   "source": [
    "def validar_numero(entrada):\n",
    "    return entrada.isdigit()  # Retorna True se a entrada for numérica, False caso contrário\n"
   ]
  },
  {
   "cell_type": "code",
   "execution_count": null,
   "metadata": {},
   "outputs": [],
   "source": [
    "# Configuração da janela principal\n",
    "janela = tk.Tk()\n",
    "janela.title(\"Formulário de Entrada\")\n",
    "janela.geometry(\"300x200\")\n",
    "\n",
    "# Rótulos e entradas\n",
    "tk.Label(janela, text=\"Entre com um Texto:\").pack()\n",
    "entrada_texto = tk.Entry(janela)\n",
    "entrada_texto.pack()\n",
    "\n",
    "# Entrada do Número com validação\n",
    "tk.Label(janela, text=\"Entre com um Número:\").pack()\n",
    "validar_entrada = janela.register(validar_numero)  # Registra a função de validação\n",
    "entrada_num1 = tk.Entry(janela, validate=\"key\", validatecommand=(validar_entrada, '%S'))\n",
    "entrada_num1.pack()\n",
    "\n",
    "\n",
    "# Botão para gerar a mensagem\n",
    "botao_gerar = tk.Button(janela, text=\"Gerar\", command=gerar)\n",
    "botao_gerar.pack(pady=10)\n",
    "\n",
    "# Executa a aplicação\n",
    "janela.mainloop()"
   ]
  },
  {
   "cell_type": "code",
   "execution_count": null,
   "metadata": {},
   "outputs": [],
   "source": []
  },
  {
   "cell_type": "code",
   "execution_count": null,
   "metadata": {},
   "outputs": [],
   "source": []
  }
 ],
 "metadata": {
  "kernelspec": {
   "display_name": "base",
   "language": "python",
   "name": "python3"
  },
  "language_info": {
   "codemirror_mode": {
    "name": "ipython",
    "version": 3
   },
   "file_extension": ".py",
   "mimetype": "text/x-python",
   "name": "python",
   "nbconvert_exporter": "python",
   "pygments_lexer": "ipython3",
   "version": "3.11.5"
  }
 },
 "nbformat": 4,
 "nbformat_minor": 2
}
