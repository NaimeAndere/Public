{
 "cells": [
  {
   "cell_type": "markdown",
   "metadata": {},
   "source": [
    "# ZIP Function"
   ]
  },
  {
   "cell_type": "markdown",
   "metadata": {},
   "source": [
    "A zip() é uma função embutida do Python que recebe um ou mais iteráveis (lista, string, dict, etc.) e retorna-os como um iterador de tuplas onde cada elemento dos iteráveis são pareados. Ela é útil para fazer iterações simultâneas em várias listas.\n",
    "\n",
    "A função zip() pode ser usada em conjunto com outras funções do Python, como map() e filter(), para criar soluções elegantes e concisas para certos problemas. Vamos fazer um simples teste para verificar esse comportamento:"
   ]
  },
  {
   "cell_type": "code",
   "execution_count": 1,
   "metadata": {},
   "outputs": [
    {
     "data": {
      "text/plain": [
       "<zip at 0x193ec598600>"
      ]
     },
     "execution_count": 1,
     "metadata": {},
     "output_type": "execute_result"
    }
   ],
   "source": [
    "objeto_zip = zip([1,2,3])\n",
    "objeto_zip"
   ]
  },
  {
   "cell_type": "markdown",
   "metadata": {},
   "source": [
    "Percebemos que o zip() criou um objeto zip na memória, que seria o nosso iterável. Vamos colocar o resultado em uma lista para verificar a saída:"
   ]
  },
  {
   "cell_type": "code",
   "execution_count": 2,
   "metadata": {},
   "outputs": [
    {
     "data": {
      "text/plain": [
       "[(1,), (2,), (3,)]"
      ]
     },
     "execution_count": 2,
     "metadata": {},
     "output_type": "execute_result"
    }
   ],
   "source": [
    "list(objeto_zip)"
   ]
  },
  {
   "cell_type": "markdown",
   "metadata": {},
   "source": [
    "Note que, com apenas um iterável, uma lista de tuplas foi gerada com cada tupla possuindo, como um dos pares, os elementos vindo da lista [1, 2, 3] e a outra parte dos pares vazia. Como utilizamos apenas um iterável, cada tupla está vazia no 2º elemento, uma vez que o zip() age em criar pares de iteráveis.\n",
    "\n",
    "Mas o mais interessante é trabalhar com dois ou mais iteráveis em que podemos pareá-los. Por exemplo, se quisermos criar uma lista de tuplas com o mapeamento das regiões do Brasil com seus respectivos ids:"
   ]
  },
  {
   "cell_type": "code",
   "execution_count": 5,
   "metadata": {},
   "outputs": [
    {
     "data": {
      "text/plain": [
       "['Norte', 'Nordeste', 'Sudeste', 'Centro-Oeste', 'Sul']"
      ]
     },
     "execution_count": 5,
     "metadata": {},
     "output_type": "execute_result"
    }
   ],
   "source": [
    "id = [1, 2, 3, 4, 5]\n",
    "regiao = [\"Norte\", \"Nordeste\", \"Sudeste\", \"Centro-Oeste\", \"Sul\"]\n",
    "regiao\n"
   ]
  },
  {
   "cell_type": "markdown",
   "metadata": {},
   "source": [
    "Juntando no mapa"
   ]
  },
  {
   "cell_type": "code",
   "execution_count": 6,
   "metadata": {},
   "outputs": [
    {
     "data": {
      "text/plain": [
       "[(1, 'Norte'),\n",
       " (2, 'Nordeste'),\n",
       " (3, 'Sudeste'),\n",
       " (4, 'Centro-Oeste'),\n",
       " (5, 'Sul')]"
      ]
     },
     "execution_count": 6,
     "metadata": {},
     "output_type": "execute_result"
    }
   ],
   "source": [
    "mapa = list(zip(id, regiao))\n",
    "mapa"
   ]
  },
  {
   "cell_type": "markdown",
   "metadata": {},
   "source": [
    "Para uma pessoa cientista de dados, essa função pode auxiliar a parear 2 listas distintas em um único objeto zip, podendo este ser transformado em uma lista de tuplas (formato ideal para gerar um índice de mais de um nível que será explorado em alguns dos cursos da formação) ou em um dicionário passando o objeto zip para a função dict().\n",
    "\n",
    "Agora, se as listas de entrada têm comprimentos diferentes, a saída contém o mesmo número de tuplas que a lista de menor comprimento e os elementos restantes dos outros iteráveis serão ignorados. Por exemplo:"
   ]
  },
  {
   "cell_type": "code",
   "execution_count": 7,
   "metadata": {},
   "outputs": [
    {
     "data": {
      "text/plain": [
       "[('1000', 'maçã'), ('1001', 'uva'), ('1002', 'banana'), ('1003', 'laranja')]"
      ]
     },
     "execution_count": 7,
     "metadata": {},
     "output_type": "execute_result"
    }
   ],
   "source": [
    "codigos = [\"1000\", \"1001\", \"1002\", \"1003\", \"1004\", \"1005\"]\n",
    "frutas = [\"maçã\", \"uva\", \"banana\", \"laranja\"]\n",
    "\n",
    "mercadorias = list(zip(codigos, frutas))\n",
    "mercadorias"
   ]
  },
  {
   "cell_type": "markdown",
   "metadata": {},
   "source": [
    "Para fazer o processo contrário, de transformar uma tupla iterável em listas, basta passar o operador asterisco (*) ao lado esquerdo do nome da tupla iterável que quer extrair os dados, repassando cada tupla para uma variável."
   ]
  },
  {
   "cell_type": "code",
   "execution_count": 8,
   "metadata": {},
   "outputs": [
    {
     "name": "stdout",
     "output_type": "stream",
     "text": [
      "IDs =  ['J392', 'M890', 'J681', 'C325', 'A49']\n",
      "Nomes =  ['João', 'Maria', 'José', 'Claúdia', 'Ana']\n"
     ]
    }
   ],
   "source": [
    "tupla_iteravel = [('J392', 'João'), ('M890', 'Maria'), ('J681', 'José'), ('C325', 'Claúdia'), ('A49', 'Ana')]\n",
    "ids, nomes  = zip(*tupla_iteravel)\n",
    "\n",
    "ids = list(ids)\n",
    "nomes = list(nomes)\n",
    "\n",
    "print(\"IDs = \", ids)\n",
    "print(\"Nomes = \", nomes)"
   ]
  },
  {
   "cell_type": "markdown",
   "metadata": {},
   "source": [
    "A ideia de fazer um “unzip” é bem-vinda quando queremos extrair chaves ou valores separadamente ou gerar uma lista de tuplas separadas, com o conjunto de chaves e valores cada uma representados em uma tupla."
   ]
  }
 ],
 "metadata": {
  "kernelspec": {
   "display_name": "base",
   "language": "python",
   "name": "python3"
  },
  "language_info": {
   "codemirror_mode": {
    "name": "ipython",
    "version": 3
   },
   "file_extension": ".py",
   "mimetype": "text/x-python",
   "name": "python",
   "nbconvert_exporter": "python",
   "pygments_lexer": "ipython3",
   "version": "3.11.5"
  }
 },
 "nbformat": 4,
 "nbformat_minor": 2
}
