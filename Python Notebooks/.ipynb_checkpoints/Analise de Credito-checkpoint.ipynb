{
 "cells": [
  {
   "cell_type": "markdown",
   "id": "0243d9d4",
   "metadata": {},
   "source": [
    "## Análise Fatorial PCA\n",
    "### Naime Andere\n",
    "\n",
    "#### Project: Analise dos valores de imóveis\n",
    "\n",
    "Content: https://naime-andere.notion.site/Unsupervised-Machine-Learning-An-lise-Fatorial-e-PCA-be9a43fe565a46d3ba021575fd18073d?pvs=4\n",
    "\n",
    "Linkedin: https://www.linkedin.com/in/naimeandere/ \n",
    "\n",
    "Github: https://github.com/NaimeAndere"
   ]
  }
 ],
 "metadata": {
  "kernelspec": {
   "display_name": "Python 3 (ipykernel)",
   "language": "python",
   "name": "python3"
  },
  "language_info": {
   "codemirror_mode": {
    "name": "ipython",
    "version": 3
   },
   "file_extension": ".py",
   "mimetype": "text/x-python",
   "name": "python",
   "nbconvert_exporter": "python",
   "pygments_lexer": "ipython3",
   "version": "3.11.5"
  }
 },
 "nbformat": 4,
 "nbformat_minor": 5
}
