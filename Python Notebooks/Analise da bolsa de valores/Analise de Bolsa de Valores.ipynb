{
 "cells": [
  {
   "cell_type": "markdown",
   "metadata": {},
   "source": [
    "# Script de Análise de Bolsa de Valores\n",
    "\n",
    "Desenvolvido por: Naime Andere\n",
    "Contato: https://www.linkedin.com/in/naimeandere/ \n",
    "\n",
    "Descrição: \n",
    "Este script realiza uma análise de ações na bolsa de valores, \n",
    "fornecendo insights baseados em dados históricos e indicadores financeiros com linha de tendência. \n",
    "O objetivo é ajudar quem está iniciando nessa aárea de investimento poder olhar de outra maneira as ações para tomarem decisões informadas \n",
    "por meio de visualizações e relatórios automatizados.\n",
    "\n",
    "É utilizado o pacote Yahoo Finance para buscar os dados online. "
   ]
  },
  {
   "cell_type": "markdown",
   "metadata": {},
   "source": [
    "Install Packages"
   ]
  },
  {
   "cell_type": "code",
   "execution_count": null,
   "metadata": {},
   "outputs": [],
   "source": [
    "!pip install pandas\n",
    "!pip install matplotlib\n",
    "!pip install yfinance\n",
    "!pip install numpy"
   ]
  },
  {
   "cell_type": "markdown",
   "metadata": {},
   "source": [
    "Importar as Bibliotecas"
   ]
  },
  {
   "cell_type": "code",
   "execution_count": 2,
   "metadata": {},
   "outputs": [],
   "source": [
    "import pandas as pd\n",
    "import matplotlib.pyplot as plt\n",
    "import numpy as np\n",
    "import yfinance as yf\n",
    "import datetime\n",
    "from dateutil.relativedelta import relativedelta"
   ]
  },
  {
   "cell_type": "markdown",
   "metadata": {},
   "source": [
    "Função para baixar os dados do Yahoo Finance"
   ]
  },
  {
   "cell_type": "code",
   "execution_count": 3,
   "metadata": {},
   "outputs": [],
   "source": [
    "def obter_dados(ticker, start_date,end_date):\n",
    "    data = pd.DataFrame(yf.download(ticker,start=start_date, end=end_date))\n",
    "    # Resetando o índice para transformar o índice 'Date' em uma coluna\n",
    "    data.reset_index(inplace=True)\n",
    "\n",
    "    return data"
   ]
  },
  {
   "cell_type": "markdown",
   "metadata": {},
   "source": [
    "Função para criar os gráficos "
   ]
  },
  {
   "cell_type": "code",
   "execution_count": 4,
   "metadata": {},
   "outputs": [],
   "source": [
    "def plotar_graficos(data):\n",
    "    fig, axs = plt.subplots(4, 1, figsize=(10, 8), sharex=True)\n",
    "\n",
    "    # Grafico 1: Abertura\n",
    "    X = (data['Date'] - data['Date'].min()).dt.days.values\n",
    "    Y = data['Open'].values\n",
    "    n = np.size(data['Open'])\n",
    "    m, b = np.polyfit(X, Y, 1)\n",
    "    linha_tendencia = m * X + b\n",
    "\n",
    "    axs[0].plot(data['Open'], label='Abertura', color='blue')\n",
    "    axs[0].plot(X, linha_tendencia, color='orange', label='Linha de Tendência')\n",
    "    axs[0].set_ylabel('Abertura')\n",
    "\n",
    "    # Grafico 2: Mi­nima\n",
    "    X = (data['Date'] - data['Date'].min()).dt.days.values\n",
    "    Y = data['Low'].values\n",
    "    n = np.size(data['Low'])\n",
    "    m, b = np.polyfit(X, Y, 1)\n",
    "    linha_tendencia = m * X + b\n",
    "\n",
    "    axs[1].plot(data['Low'], label='Minima', color='green')\n",
    "    axs[1].plot(X, linha_tendencia, color='orange', label='Linha de Tendência')\n",
    "    axs[1].set_ylabel('Minima')\n",
    "\n",
    "    # Grafico 3: Maxima\n",
    "    X = (data['Date'] - data['Date'].min()).dt.days.values\n",
    "    Y = data['High'].values\n",
    "    n = np.size(data['High'])\n",
    "    m, b = np.polyfit(X, Y, 1)\n",
    "    linha_tendencia = m * X + b\n",
    "\n",
    "    axs[2].plot(data['High'], label='Maxima', color='red')\n",
    "    axs[2].plot(X, linha_tendencia, color='orange', label='Linha de Tendência')\n",
    "    axs[2].set_ylabel('Maxima')\n",
    "\n",
    "    # Grafico 4: Fechamento\n",
    "    X = (data['Date'] - data['Date'].min()).dt.days.values\n",
    "    Y = data['Close'].values\n",
    "    n = np.size(data['Close'])\n",
    "    m, b = np.polyfit(X, Y, 1)\n",
    "    linha_tendencia = m * X + b\n",
    "\n",
    "    axs[3].plot(data['Close'], label='Fechamento', color='purple')\n",
    "    axs[3].plot(X, linha_tendencia, color='orange', label='Linha de Tendência')\n",
    "    axs[3].set_ylabel('Fechamento')\n",
    "\n",
    "    axs[3].set_xlabel('Data')\n",
    "\n",
    "    # Adiciona legenda\n",
    "    axs[0].legend()\n",
    "    axs[1].legend()\n",
    "    axs[2].legend()\n",
    "    axs[3].legend()\n",
    "\n",
    "    plt.tight_layout()\n",
    "    plt.show()"
   ]
  },
  {
   "cell_type": "markdown",
   "metadata": {},
   "source": [
    "Plotar somente graficos de Closed"
   ]
  },
  {
   "cell_type": "code",
   "execution_count": 5,
   "metadata": {},
   "outputs": [],
   "source": [
    "def plotar_graficos_fechamento(data):\n",
    "    plt.plot(figsize=(10, 8), sharex=True)\n",
    "\n",
    "    # Grafico 4: Fechamento\n",
    "    X = (data['Date'] - data['Date'].min()).dt.days.values\n",
    "    Y = data['Close'].values\n",
    "    n = np.size(data['Close'])\n",
    "    m, b = np.polyfit(X, Y, 1)\n",
    "    linha_tendencia = m * X + b\n",
    "\n",
    "    plt.plot(data['Close'], label='Fechamento', color='purple')\n",
    "    plt.plot(X, linha_tendencia, color='orange', label='Linha de Tendência')\n",
    "    plt.ylabel('Fechamento')\n",
    "\n",
    "    plt.xlabel(f'últimos {len(data)} dias')\n",
    "\n",
    "    # Adiciona legenda\n",
    "    plt.legend()\n",
    "    plt.grid()\n",
    "    plt.tight_layout()\n",
    "    plt.show()"
   ]
  },
  {
   "cell_type": "markdown",
   "metadata": {},
   "source": [
    "Função para Gráficos comparativo"
   ]
  },
  {
   "cell_type": "code",
   "execution_count": null,
   "metadata": {},
   "outputs": [],
   "source": [
    "def plotar_graficos_comparativos(dados):\n",
    "    \n",
    "    plt.figure(figsize=(10,6))\n",
    "\n",
    "    for dado in dados:\n",
    "        X = (dado['Date'] - dado['Date'].min()).dt.days.values\n",
    "        Y = (dado['Close'])\n",
    "        plt.plot(X,Y)\n",
    "        plt.grid()\n",
    "\n",
    "\n",
    "plt.tight_layout()\n",
    "plt.show()"
   ]
  },
  {
   "cell_type": "markdown",
   "metadata": {},
   "source": [
    "Função para criar uma lista de escolhas para facilitar para o usuário"
   ]
  },
  {
   "cell_type": "code",
   "execution_count": 7,
   "metadata": {},
   "outputs": [],
   "source": [
    "def choose(options):\n",
    "    # Exibir as opções disponíveis\n",
    "    print(\"Escolha uma das opções abaixo:\")\n",
    "    for i, option in enumerate(options, 1):\n",
    "        print(f\"{i}. {option}\")\n",
    "\n",
    "    # Solicitar a entrada do usuário\n",
    "    try:\n",
    "        index = int(input(\"Digite o número da sua escolha: \"))\n",
    "        if 1 <= index <= len(options):\n",
    "            return options[index - 1]\n",
    "        else:\n",
    "            return \"Escolha inválida, índice fora do intervalo.\"\n",
    "    except ValueError:\n",
    "        return \"Escolha inválida, por favor insira um número.\""
   ]
  },
  {
   "cell_type": "markdown",
   "metadata": {},
   "source": [
    "Define Ticker, data de inicio, data de fim e mandar rodar a função para buscar os dados e plotar no gráfico"
   ]
  },
  {
   "cell_type": "code",
   "execution_count": null,
   "metadata": {},
   "outputs": [],
   "source": [
    "# recebe valor com nome das ações do usuario\n",
    "inputTickers = input(\"Entre com os nome das ações separadas por virgura, ex: PETR3.SA,MGLU3.SA,VALE3.SA\")\n",
    "# recebe a quantidade de anos que deseja buscar\n",
    "inputYear = input(\"Entre com tempo em anos do período da busca\")\n",
    "\n",
    "# cria uma lista com os valores recebidos\n",
    "if len(inputTickers) > 0:\n",
    "    tickers =  [valor.strip().upper() for valor in inputTickers.split(',') ] \n",
    "else:\n",
    "    # caso o valor for em branco, entrão recebe valor padrão\n",
    "    tickers = [\"VALE\",\"PETR3.SA\",\"MGLU3.SA\",\"VALE3.SA\"]\n",
    "\n",
    "# Data de término é sempre a data atual\n",
    "end_date = today = datetime.date.today()\n",
    "\n",
    "# verifica se teve data de início\n",
    "if len(inputYear) > 0:\n",
    "    start_date = end_date - relativedelta(years=int(inputYear))\n",
    "else:\n",
    "    # se receber valor em branco, então busca o valor padrão\n",
    "    start_date = end_date - relativedelta(years=3)\n",
    "\n",
    "# cria uma tabela para receber os dados\n",
    "dados = []\n",
    "\n",
    "#Cria a verificação de escolha de retorno\n",
    "opcoes = [\"Um gráfico para cada ação\", \"Todas as ações em um único gráfico\",\"Plotar gráficos completos\"]\n",
    "escolha = choose(opcoes)\n",
    "print(f\"Você escolheu: {escolha}\")\n",
    "\n",
    "if escolha == \"Um gráfico para cada ação\":\n",
    "    for ticker in tickers:\n",
    "        dados = obter_dados(ticker,start_date,end_date)\n",
    "        print('******************************************************************')\n",
    "        info = yf.Ticker(ticker).info\n",
    "        print(f\"Nome: {info['shortName']}\")\n",
    "        print(f\"Tipo: {info['industry']}\")\n",
    "        print(f\"Datas entre: {start_date} e {end_date}\")\n",
    "        plotar_graficos_fechamento(dados)\n",
    "\n",
    "elif escolha == \"Todas as ações em um único gráfico\":\n",
    "# Faz a busca dos dados no servidor da Yahoo e adiciona na tabela\n",
    "    for ticker in tickers:\n",
    "        dados.append(obter_dados(ticker,start_date,end_date))\n",
    "        \n",
    "    print('******************************************************************')\n",
    "    plotar_graficos_comparativos(dados)\n",
    "\n",
    "elif escolha == \"Plotar gráficos completos\":\n",
    "    for ticker in tickers:\n",
    "        dados = obter_dados(ticker,start_date,end_date)\n",
    "        info = yf.Ticker(ticker).info\n",
    "        print('******************************************************************')\n",
    "        print(f\"Nome: {info['shortName']}\")\n",
    "        print(f\"Tipo: {info['industry']}\")\n",
    "        print(f\"Datas entre: {start_date} e {end_date}\")\n",
    "        plotar_graficos(dados)\n"
   ]
  }
 ],
 "metadata": {
  "kernelspec": {
   "display_name": "Python 3",
   "language": "python",
   "name": "python3"
  },
  "language_info": {
   "codemirror_mode": {
    "name": "ipython",
    "version": 3
   },
   "file_extension": ".py",
   "mimetype": "text/x-python",
   "name": "python",
   "nbconvert_exporter": "python",
   "pygments_lexer": "ipython3",
   "version": "3.12.1"
  }
 },
 "nbformat": 4,
 "nbformat_minor": 2
}
