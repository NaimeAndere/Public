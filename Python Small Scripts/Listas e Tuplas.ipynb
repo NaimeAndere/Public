{
 "cells": [
  {
   "cell_type": "markdown",
   "metadata": {},
   "source": [
    "# Listas e Tuplas"
   ]
  },
  {
   "cell_type": "markdown",
   "metadata": {},
   "source": [
    "1 - __Listas__\n",
    "\n",
    "As listas são mutáveis, ou seja, seus elementos podem ser alterados, removidos ou adicionados após a criação. Listas são declaradas com colchetes [].\n",
    "\n",
    "Operações com Listas\n",
    "- Adicionar elemento: minha_lista.append(valor)\n",
    "- Remover elemento: minha_lista.remove(valor)\n",
    "- Acessar elemento por índice: minha_lista[indice]\n",
    "- Verificar comprimento: len(minha_lista)\n",
    "\n",
    "Sintaxe\n",
    " - minha_lista = [elemento1, elemento2, elemento3, ...]"
   ]
  },
  {
   "cell_type": "code",
   "execution_count": 1,
   "metadata": {},
   "outputs": [
    {
     "name": "stdout",
     "output_type": "stream",
     "text": [
      "[10, 'Python', 3.14, True, 'Novo Elemento']\n",
      "['Python', 3.14, True, 'Novo Elemento']\n",
      "3.14\n",
      "4\n"
     ]
    }
   ],
   "source": [
    "# EXEMPLO:\n",
    "\n",
    "# Criando uma lista com diferentes tipos de dados\n",
    "minha_lista = [10, \"Python\", 3.14, True]\n",
    "\n",
    "# Adicionando um elemento\n",
    "minha_lista.append(\"Novo Elemento\")\n",
    "print(minha_lista)  # Saída: [10, \"Python\", 3.14, True, \"Novo Elemento\"]\n",
    "\n",
    "# Removendo um elemento\n",
    "minha_lista.remove(10)\n",
    "print(minha_lista)  # Saída: [\"Python\", 3.14, True, \"Novo Elemento\"]\n",
    "\n",
    "# Acessando um elemento por índice\n",
    "print(minha_lista[1])  # Saída: 3.14\n",
    "\n",
    "# Tamanho da lista\n",
    "print(len(minha_lista))  # Saída: 4"
   ]
  },
  {
   "cell_type": "markdown",
   "metadata": {},
   "source": [
    "2 - __Tupla__\n",
    "\n",
    "As tuplas são imutáveis, ou seja, seus elementos não podem ser alterados após a criação. São ideais para dados que não devem ser modificados. Tuplas são declaradas com parênteses ().\n",
    "\n",
    "Operações com Tuplas\n",
    "- Acessar elemento por índice: minha_tupla[indice]\n",
    "- Verificar comprimento: len(minha_tupla)\n",
    "\n",
    "Sintaxe\n",
    "- minha_tupla = (elemento1, elemento2, elemento3, ...)"
   ]
  },
  {
   "cell_type": "code",
   "execution_count": 9,
   "metadata": {},
   "outputs": [
    {
     "name": "stdout",
     "output_type": "stream",
     "text": [
      "Python\n",
      "4\n",
      "Pyt\n"
     ]
    }
   ],
   "source": [
    "# EXEMPLO\n",
    "\n",
    "# Criando uma tupla com diferentes tipos de dados\n",
    "minha_tupla = (10, \"Python\", 3.14, True)\n",
    "\n",
    "# Acessando um elemento por índice\n",
    "print(minha_tupla[1])  # Saída: Python\n",
    "\n",
    "# Tamanho da tupla\n",
    "print(len(minha_tupla))  # Saída: 4\n",
    "\n",
    "# Pegando os 3 primeiros caracteres do \"python\"\n",
    "print(minha_tupla[1][0:3])  # Saída: Pyt"
   ]
  },
  {
   "cell_type": "markdown",
   "metadata": {},
   "source": [
    "__Diferenças Resumidas__\n",
    "\n",
    "- Mutabilidade: Listas são mutáveis, tuplas são imutáveis.\n",
    "- Declaração: Listas usam [], tuplas usam ().\n",
    "- Usos: Listas para dados que podem ser modificados; tuplas para dados constantes."
   ]
  }
 ],
 "metadata": {
  "kernelspec": {
   "display_name": "base",
   "language": "python",
   "name": "python3"
  },
  "language_info": {
   "codemirror_mode": {
    "name": "ipython",
    "version": 3
   },
   "file_extension": ".py",
   "mimetype": "text/x-python",
   "name": "python",
   "nbconvert_exporter": "python",
   "pygments_lexer": "ipython3",
   "version": "3.11.5"
  }
 },
 "nbformat": 4,
 "nbformat_minor": 2
}
